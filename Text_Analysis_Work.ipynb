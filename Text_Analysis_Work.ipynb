{
  "cells": [
    {
      "cell_type": "markdown",
      "metadata": {
        "id": "view-in-github",
        "colab_type": "text"
      },
      "source": [
        "<a href=\"https://colab.research.google.com/github/aakashr30/Text-Analysis/blob/main/Text_Analysis_Work.ipynb\" target=\"_parent\"><img src=\"https://colab.research.google.com/assets/colab-badge.svg\" alt=\"Open In Colab\"/></a>"
      ]
    },
    {
      "cell_type": "code",
      "execution_count": null,
      "metadata": {
        "id": "bBw_FkA5B6I7"
      },
      "outputs": [],
      "source": [
        "paragraph ='''It is a widely used and deeply understood dataset and, for the most part,he is the king'pablo'lets the hiu hgjhh hs, kohli is paly for RCB in Banglore and partner with aakash, is “solved.” Top-performing models are deep learning convolutional neural networks that achieve a classification accuracy of above 99%, with an error rate between 0.4 %and 0.2% on the hold out test dataset.'''"
      ]
    },
    {
      "cell_type": "code",
      "execution_count": null,
      "metadata": {
        "colab": {
          "base_uri": "https://localhost:8080/",
          "height": 72
        },
        "id": "ft0UBgsEB-vl",
        "outputId": "fedd9c79-f4bd-4b7c-d3d0-2146b16a25e3"
      },
      "outputs": [
        {
          "data": {
            "application/vnd.google.colaboratory.intrinsic+json": {
              "type": "string"
            },
            "text/plain": [
              "\"IT IS A WIDELY USED AND DEEPLY UNDERSTOOD DATASET AND, FOR THE MOST PART,HE IS THE KING'PABLO'LETS THE HIU HGJHH HS, KOHLI IS PALY FOR RCB IN BANGLORE AND PARTNER WITH AAKASH, IS “SOLVED.” TOP-PERFORMING MODELS ARE DEEP LEARNING CONVOLUTIONAL NEURAL NETWORKS THAT ACHIEVE A CLASSIFICATION ACCURACY OF ABOVE 99%, WITH AN ERROR RATE BETWEEN 0.4 %AND 0.2% ON THE HOLD OUT TEST DATASET.\""
            ]
          },
          "execution_count": 144,
          "metadata": {},
          "output_type": "execute_result"
        }
      ],
      "source": [
        "paragraph.upper()"
      ]
    },
    {
      "cell_type": "code",
      "execution_count": null,
      "metadata": {
        "colab": {
          "base_uri": "https://localhost:8080/"
        },
        "id": "x1ElEJ72CCML",
        "outputId": "5a74f957-4df8-4906-e501-e9a0ea0c27ff"
      },
      "outputs": [
        {
          "name": "stdout",
          "output_type": "stream",
          "text": [
            "It is a widely used and deeply understood dataset and, for the most part,he is the king'pablo'lets the hiu hgjhh hs, kohli is paly for RCB in Banglore and partner with aakash, is “solved.” Top-performing models are deep learning convolutional neural networks that achieve a classification accuracy of above %, with an error rate between . %and .% on the hold out test dataset.\n"
          ]
        }
      ],
      "source": [
        "#REMOVE THE NUMERICAL VALUE\n",
        "newstring = ''.join([i for i in paragraph if not i.isdigit()])\n",
        "print(newstring)"
      ]
    },
    {
      "cell_type": "code",
      "execution_count": null,
      "metadata": {
        "colab": {
          "base_uri": "https://localhost:8080/"
        },
        "id": "FhdLgD6iEaGZ",
        "outputId": "08e9c9d1-696c-4be5-bb3c-87bf364a39b2"
      },
      "outputs": [
        {
          "name": "stdout",
          "output_type": "stream",
          "text": [
            "It is a widely used and deeply understood dataset and, for the most part,he is the king'pablo'lets the hiu hgjhh hs, kohli is paly for RCB in Banglore and partner with aakash, is “solved.” Top-performing models are deep learning convolutional neural networks that achieve a classification accuracy of above 99%, with an error rate between 0.4 %and 0.2% on the hold out test dataset.\n"
          ]
        }
      ],
      "source": [
        "from string import digits\n",
        "N = paragraph.translate(digits)\n",
        "print(N)"
      ]
    },
    {
      "cell_type": "code",
      "execution_count": null,
      "metadata": {
        "colab": {
          "base_uri": "https://localhost:8080/",
          "height": 72
        },
        "id": "OweD8dR3Dvfp",
        "outputId": "62cf36cc-0434-49a3-e1e3-9967c4ad045c"
      },
      "outputs": [
        {
          "data": {
            "application/vnd.google.colaboratory.intrinsic+json": {
              "type": "string"
            },
            "text/plain": [
              "\"It Is A Widely Used And Deeply Understood Dataset And, For The Most Part,He Is The King'Pablo'Lets The Hiu Hgjhh Hs, Kohli Is Paly For Rcb In Banglore And Partner With Aakash, Is “Solved.” Top-Performing Models Are Deep Learning Convolutional Neural Networks That Achieve A Classification Accuracy Of Above 99%, With An Error Rate Between 0.4 %And 0.2% On The Hold Out Test Dataset.\""
            ]
          },
          "execution_count": 147,
          "metadata": {},
          "output_type": "execute_result"
        }
      ],
      "source": [
        "#CAPITAL LETTER OF FIRST SENTENCE\n",
        "paragraph.title()"
      ]
    },
    {
      "cell_type": "code",
      "execution_count": null,
      "metadata": {
        "colab": {
          "base_uri": "https://localhost:8080/"
        },
        "id": "F-_a2TvyD-H-",
        "outputId": "7c974139-4daa-4a3e-c4a5-dfc090331c06"
      },
      "outputs": [
        {
          "data": {
            "text/plain": [
              "['It',\n",
              " 'is',\n",
              " 'a',\n",
              " 'widely',\n",
              " 'used',\n",
              " 'and',\n",
              " 'deeply',\n",
              " 'understood',\n",
              " 'dataset',\n",
              " 'and,',\n",
              " 'for',\n",
              " 'the',\n",
              " 'most',\n",
              " 'part,he',\n",
              " 'is',\n",
              " 'the',\n",
              " \"king'pablo'lets\",\n",
              " 'the',\n",
              " 'hiu',\n",
              " 'hgjhh',\n",
              " 'hs,',\n",
              " 'kohli',\n",
              " 'is',\n",
              " 'paly',\n",
              " 'for',\n",
              " 'RCB',\n",
              " 'in',\n",
              " 'Banglore',\n",
              " 'and',\n",
              " 'partner',\n",
              " 'with',\n",
              " 'aakash,',\n",
              " 'is',\n",
              " '“solved.”',\n",
              " 'Top-performing',\n",
              " 'models',\n",
              " 'are',\n",
              " 'deep',\n",
              " 'learning',\n",
              " 'convolutional',\n",
              " 'neural',\n",
              " 'networks',\n",
              " 'that',\n",
              " 'achieve',\n",
              " 'a',\n",
              " 'classification',\n",
              " 'accuracy',\n",
              " 'of',\n",
              " 'above',\n",
              " '99%,',\n",
              " 'with',\n",
              " 'an',\n",
              " 'error',\n",
              " 'rate',\n",
              " 'between',\n",
              " '0.4',\n",
              " '%and',\n",
              " '0.2%',\n",
              " 'on',\n",
              " 'the',\n",
              " 'hold',\n",
              " 'out',\n",
              " 'test',\n",
              " 'dataset.']"
            ]
          },
          "execution_count": 148,
          "metadata": {},
          "output_type": "execute_result"
        }
      ],
      "source": [
        "paragraph.split()"
      ]
    },
    {
      "cell_type": "code",
      "execution_count": null,
      "metadata": {
        "id": "OOdhwN9-KoMI"
      },
      "outputs": [],
      "source": [
        "import nltk"
      ]
    },
    {
      "cell_type": "code",
      "execution_count": null,
      "metadata": {
        "colab": {
          "base_uri": "https://localhost:8080/"
        },
        "id": "0DSm9nGBKfMr",
        "outputId": "56108d14-b090-41a2-fcb2-1373a3f2fc0e"
      },
      "outputs": [
        {
          "name": "stdout",
          "output_type": "stream",
          "text": [
            "[nltk_data] Downloading package punkt to /root/nltk_data...\n",
            "[nltk_data]   Package punkt is already up-to-date!\n"
          ]
        },
        {
          "data": {
            "text/plain": [
              "True"
            ]
          },
          "execution_count": 150,
          "metadata": {},
          "output_type": "execute_result"
        }
      ],
      "source": [
        "nltk.download(\"punkt\")"
      ]
    },
    {
      "cell_type": "code",
      "execution_count": null,
      "metadata": {
        "id": "cQQcAgpJJwew"
      },
      "outputs": [],
      "source": [
        "from nltk.tokenize import word_tokenize"
      ]
    },
    {
      "cell_type": "code",
      "execution_count": null,
      "metadata": {
        "colab": {
          "base_uri": "https://localhost:8080/"
        },
        "id": "QTUffvoTJ9OC",
        "outputId": "c87e2286-8e2c-439f-923a-9f645b03e503"
      },
      "outputs": [
        {
          "data": {
            "text/plain": [
              "['It',\n",
              " 'is',\n",
              " 'a',\n",
              " 'widely',\n",
              " 'used',\n",
              " 'and',\n",
              " 'deeply',\n",
              " 'understood',\n",
              " 'dataset',\n",
              " 'and',\n",
              " ',',\n",
              " 'for',\n",
              " 'the',\n",
              " 'most',\n",
              " 'part',\n",
              " ',',\n",
              " 'he',\n",
              " 'is',\n",
              " 'the',\n",
              " \"king'pablo'lets\",\n",
              " 'the',\n",
              " 'hiu',\n",
              " 'hgjhh',\n",
              " 'hs',\n",
              " ',',\n",
              " 'kohli',\n",
              " 'is',\n",
              " 'paly',\n",
              " 'for',\n",
              " 'RCB',\n",
              " 'in',\n",
              " 'Banglore',\n",
              " 'and',\n",
              " 'partner',\n",
              " 'with',\n",
              " 'aakash',\n",
              " ',',\n",
              " 'is',\n",
              " '“',\n",
              " 'solved.',\n",
              " '”',\n",
              " 'Top-performing',\n",
              " 'models',\n",
              " 'are',\n",
              " 'deep',\n",
              " 'learning',\n",
              " 'convolutional',\n",
              " 'neural',\n",
              " 'networks',\n",
              " 'that',\n",
              " 'achieve',\n",
              " 'a',\n",
              " 'classification',\n",
              " 'accuracy',\n",
              " 'of',\n",
              " 'above',\n",
              " '99',\n",
              " '%',\n",
              " ',',\n",
              " 'with',\n",
              " 'an',\n",
              " 'error',\n",
              " 'rate',\n",
              " 'between',\n",
              " '0.4',\n",
              " '%',\n",
              " 'and',\n",
              " '0.2',\n",
              " '%',\n",
              " 'on',\n",
              " 'the',\n",
              " 'hold',\n",
              " 'out',\n",
              " 'test',\n",
              " 'dataset',\n",
              " '.']"
            ]
          },
          "execution_count": 152,
          "metadata": {},
          "output_type": "execute_result"
        }
      ],
      "source": [
        "token = word_tokenize(paragraph)\n",
        "token"
      ]
    },
    {
      "cell_type": "code",
      "execution_count": null,
      "metadata": {
        "id": "Wh2-MOpLKKLk"
      },
      "outputs": [],
      "source": [
        "from nltk.probability import FreqDist"
      ]
    },
    {
      "cell_type": "code",
      "execution_count": null,
      "metadata": {
        "colab": {
          "base_uri": "https://localhost:8080/"
        },
        "id": "QFN1PyarLD5D",
        "outputId": "6a9fed7e-923c-474e-ae37-7014fa4fdf23"
      },
      "outputs": [
        {
          "data": {
            "text/plain": [
              "FreqDist({'%': 3,\n",
              "          ',': 5,\n",
              "          '.': 1,\n",
              "          '0.2': 1,\n",
              "          '0.4': 1,\n",
              "          '99': 1,\n",
              "          'Banglore': 1,\n",
              "          'It': 1,\n",
              "          'RCB': 1,\n",
              "          'Top-performing': 1,\n",
              "          'a': 2,\n",
              "          'aakash': 1,\n",
              "          'above': 1,\n",
              "          'accuracy': 1,\n",
              "          'achieve': 1,\n",
              "          'an': 1,\n",
              "          'and': 4,\n",
              "          'are': 1,\n",
              "          'between': 1,\n",
              "          'classification': 1,\n",
              "          'convolutional': 1,\n",
              "          'dataset': 2,\n",
              "          'deep': 1,\n",
              "          'deeply': 1,\n",
              "          'error': 1,\n",
              "          'for': 2,\n",
              "          'he': 1,\n",
              "          'hgjhh': 1,\n",
              "          'hiu': 1,\n",
              "          'hold': 1,\n",
              "          'hs': 1,\n",
              "          'in': 1,\n",
              "          'is': 4,\n",
              "          \"king'pablo'lets\": 1,\n",
              "          'kohli': 1,\n",
              "          'learning': 1,\n",
              "          'models': 1,\n",
              "          'most': 1,\n",
              "          'networks': 1,\n",
              "          'neural': 1,\n",
              "          'of': 1,\n",
              "          'on': 1,\n",
              "          'out': 1,\n",
              "          'paly': 1,\n",
              "          'part': 1,\n",
              "          'partner': 1,\n",
              "          'rate': 1,\n",
              "          'solved.': 1,\n",
              "          'test': 1,\n",
              "          'that': 1,\n",
              "          'the': 4,\n",
              "          'understood': 1,\n",
              "          'used': 1,\n",
              "          'widely': 1,\n",
              "          'with': 2,\n",
              "          '“': 1,\n",
              "          '”': 1})"
            ]
          },
          "execution_count": 154,
          "metadata": {},
          "output_type": "execute_result"
        }
      ],
      "source": [
        "fdist = FreqDist(token)\n",
        "fdist"
      ]
    },
    {
      "cell_type": "code",
      "execution_count": null,
      "metadata": {
        "colab": {
          "base_uri": "https://localhost:8080/"
        },
        "id": "v0v9ayP4LKQy",
        "outputId": "ca0087d5-452f-4fce-d326-c8adefb2a9f7"
      },
      "outputs": [
        {
          "data": {
            "text/plain": [
              "FreqDist({'%': 3,\n",
              "          ',': 5,\n",
              "          '.': 1,\n",
              "          '0.2': 1,\n",
              "          '0.4': 1,\n",
              "          '99': 1,\n",
              "          'Banglore': 1,\n",
              "          'It': 1,\n",
              "          'RCB': 1,\n",
              "          'Top-performing': 1,\n",
              "          'a': 2,\n",
              "          'aakash': 1,\n",
              "          'above': 1,\n",
              "          'accuracy': 1,\n",
              "          'achieve': 1,\n",
              "          'an': 1,\n",
              "          'and': 4,\n",
              "          'are': 1,\n",
              "          'between': 1,\n",
              "          'classification': 1,\n",
              "          'convolutional': 1,\n",
              "          'dataset': 2,\n",
              "          'deep': 1,\n",
              "          'deeply': 1,\n",
              "          'error': 1,\n",
              "          'for': 2,\n",
              "          'he': 1,\n",
              "          'hgjhh': 1,\n",
              "          'hiu': 1,\n",
              "          'hold': 1,\n",
              "          'hs': 1,\n",
              "          'in': 1,\n",
              "          'is': 4,\n",
              "          \"king'pablo'lets\": 1,\n",
              "          'kohli': 1,\n",
              "          'learning': 1,\n",
              "          'models': 1,\n",
              "          'most': 1,\n",
              "          'networks': 1,\n",
              "          'neural': 1,\n",
              "          'of': 1,\n",
              "          'on': 1,\n",
              "          'out': 1,\n",
              "          'paly': 1,\n",
              "          'part': 1,\n",
              "          'partner': 1,\n",
              "          'rate': 1,\n",
              "          'solved.': 1,\n",
              "          'test': 1,\n",
              "          'that': 1,\n",
              "          'the': 4,\n",
              "          'understood': 1,\n",
              "          'used': 1,\n",
              "          'widely': 1,\n",
              "          'with': 2,\n",
              "          '“': 1,\n",
              "          '”': 1})"
            ]
          },
          "execution_count": 155,
          "metadata": {},
          "output_type": "execute_result"
        }
      ],
      "source": [
        "fdist1 = FreqDist(token)\n",
        "fdist1"
      ]
    },
    {
      "cell_type": "code",
      "execution_count": null,
      "metadata": {
        "id": "Muzfl9JlLUg7"
      },
      "outputs": [],
      "source": [
        "import textblob\n",
        "from textblob import TextBlob"
      ]
    },
    {
      "cell_type": "code",
      "execution_count": null,
      "metadata": {
        "colab": {
          "base_uri": "https://localhost:8080/"
        },
        "id": "98MPjV6aMGkn",
        "outputId": "396bca6d-6c7b-40cb-f532-e44ee8efcbb9"
      },
      "outputs": [
        {
          "data": {
            "text/plain": [
              "[WordList(['It', 'is', 'a']),\n",
              " WordList(['is', 'a', 'widely']),\n",
              " WordList(['a', 'widely', 'used']),\n",
              " WordList(['widely', 'used', 'and']),\n",
              " WordList(['used', 'and', 'deeply']),\n",
              " WordList(['and', 'deeply', 'understood']),\n",
              " WordList(['deeply', 'understood', 'dataset']),\n",
              " WordList(['understood', 'dataset', 'and']),\n",
              " WordList(['dataset', 'and', 'for']),\n",
              " WordList(['and', 'for', 'the']),\n",
              " WordList(['for', 'the', 'most']),\n",
              " WordList(['the', 'most', 'part']),\n",
              " WordList(['most', 'part', 'he']),\n",
              " WordList(['part', 'he', 'is']),\n",
              " WordList(['he', 'is', 'the']),\n",
              " WordList(['is', 'the', \"king'pablo'lets\"]),\n",
              " WordList(['the', \"king'pablo'lets\", 'the']),\n",
              " WordList([\"king'pablo'lets\", 'the', 'hiu']),\n",
              " WordList(['the', 'hiu', 'hgjhh']),\n",
              " WordList(['hiu', 'hgjhh', 'hs']),\n",
              " WordList(['hgjhh', 'hs', 'kohli']),\n",
              " WordList(['hs', 'kohli', 'is']),\n",
              " WordList(['kohli', 'is', 'paly']),\n",
              " WordList(['is', 'paly', 'for']),\n",
              " WordList(['paly', 'for', 'RCB']),\n",
              " WordList(['for', 'RCB', 'in']),\n",
              " WordList(['RCB', 'in', 'Banglore']),\n",
              " WordList(['in', 'Banglore', 'and']),\n",
              " WordList(['Banglore', 'and', 'partner']),\n",
              " WordList(['and', 'partner', 'with']),\n",
              " WordList(['partner', 'with', 'aakash']),\n",
              " WordList(['with', 'aakash', 'is']),\n",
              " WordList(['aakash', 'is', '“']),\n",
              " WordList(['is', '“', 'solved']),\n",
              " WordList(['“', 'solved', '”']),\n",
              " WordList(['solved', '”', 'Top-performing']),\n",
              " WordList(['”', 'Top-performing', 'models']),\n",
              " WordList(['Top-performing', 'models', 'are']),\n",
              " WordList(['models', 'are', 'deep']),\n",
              " WordList(['are', 'deep', 'learning']),\n",
              " WordList(['deep', 'learning', 'convolutional']),\n",
              " WordList(['learning', 'convolutional', 'neural']),\n",
              " WordList(['convolutional', 'neural', 'networks']),\n",
              " WordList(['neural', 'networks', 'that']),\n",
              " WordList(['networks', 'that', 'achieve']),\n",
              " WordList(['that', 'achieve', 'a']),\n",
              " WordList(['achieve', 'a', 'classification']),\n",
              " WordList(['a', 'classification', 'accuracy']),\n",
              " WordList(['classification', 'accuracy', 'of']),\n",
              " WordList(['accuracy', 'of', 'above']),\n",
              " WordList(['of', 'above', '99']),\n",
              " WordList(['above', '99', 'with']),\n",
              " WordList(['99', 'with', 'an']),\n",
              " WordList(['with', 'an', 'error']),\n",
              " WordList(['an', 'error', 'rate']),\n",
              " WordList(['error', 'rate', 'between']),\n",
              " WordList(['rate', 'between', '0.4']),\n",
              " WordList(['between', '0.4', 'and']),\n",
              " WordList(['0.4', 'and', '0.2']),\n",
              " WordList(['and', '0.2', 'on']),\n",
              " WordList(['0.2', 'on', 'the']),\n",
              " WordList(['on', 'the', 'hold']),\n",
              " WordList(['the', 'hold', 'out']),\n",
              " WordList(['hold', 'out', 'test']),\n",
              " WordList(['out', 'test', 'dataset'])]"
            ]
          },
          "execution_count": 157,
          "metadata": {},
          "output_type": "execute_result"
        }
      ],
      "source": [
        "TextBlob(paragraph).ngrams(3)"
      ]
    },
    {
      "cell_type": "code",
      "execution_count": null,
      "metadata": {
        "id": "1lr-ioP8NRgQ"
      },
      "outputs": [],
      "source": [
        "from nltk.stem import PorterStemmer"
      ]
    },
    {
      "cell_type": "code",
      "execution_count": null,
      "metadata": {
        "id": "FFd8IJ-VM6Nf"
      },
      "outputs": [],
      "source": [
        "pst = PorterStemmer()"
      ]
    },
    {
      "cell_type": "code",
      "execution_count": null,
      "metadata": {
        "colab": {
          "base_uri": "https://localhost:8080/",
          "height": 36
        },
        "id": "VaTRDZiyNb5n",
        "outputId": "f8f01737-198e-420b-f143-02c32546d557"
      },
      "outputs": [
        {
          "data": {
            "application/vnd.google.colaboratory.intrinsic+json": {
              "type": "string"
            },
            "text/plain": [
              "'send'"
            ]
          },
          "execution_count": 160,
          "metadata": {},
          "output_type": "execute_result"
        }
      ],
      "source": [
        "pst.stem('sending')"
      ]
    },
    {
      "cell_type": "code",
      "execution_count": null,
      "metadata": {
        "colab": {
          "base_uri": "https://localhost:8080/",
          "height": 36
        },
        "id": "Y-DLNHIHOJle",
        "outputId": "4a6bc5c4-2777-44f1-b2fb-1cd3db4f9fed"
      },
      "outputs": [
        {
          "data": {
            "application/vnd.google.colaboratory.intrinsic+json": {
              "type": "string"
            },
            "text/plain": [
              "'send'"
            ]
          },
          "execution_count": 161,
          "metadata": {},
          "output_type": "execute_result"
        }
      ],
      "source": [
        "pst.stem('sended')"
      ]
    },
    {
      "cell_type": "code",
      "execution_count": null,
      "metadata": {
        "colab": {
          "base_uri": "https://localhost:8080/",
          "height": 36
        },
        "id": "YFy20d8ZONQ2",
        "outputId": "7db93cbc-8e83-4ad9-d751-5fe8ac1006b5"
      },
      "outputs": [
        {
          "data": {
            "application/vnd.google.colaboratory.intrinsic+json": {
              "type": "string"
            },
            "text/plain": [
              "'aakash'"
            ]
          },
          "execution_count": 162,
          "metadata": {},
          "output_type": "execute_result"
        }
      ],
      "source": [
        "pst.stem('aakash')"
      ]
    },
    {
      "cell_type": "code",
      "execution_count": null,
      "metadata": {
        "id": "m01xHur-OR93"
      },
      "outputs": [],
      "source": [
        "from nltk.stem import LancasterStemmer\n",
        "lst = LancasterStemmer()"
      ]
    },
    {
      "cell_type": "code",
      "execution_count": null,
      "metadata": {
        "colab": {
          "base_uri": "https://localhost:8080/",
          "height": 36
        },
        "id": "G4wmrW-vPT7k",
        "outputId": "d124f0bf-b294-492c-8f74-58f96b3ae16e"
      },
      "outputs": [
        {
          "data": {
            "application/vnd.google.colaboratory.intrinsic+json": {
              "type": "string"
            },
            "text/plain": [
              "'send'"
            ]
          },
          "execution_count": 164,
          "metadata": {},
          "output_type": "execute_result"
        }
      ],
      "source": [
        "lst.stem('sending')"
      ]
    },
    {
      "cell_type": "code",
      "execution_count": null,
      "metadata": {
        "colab": {
          "base_uri": "https://localhost:8080/",
          "height": 36
        },
        "id": "WyZaSOQoPXVE",
        "outputId": "a27981ce-89a0-4a36-d9ae-d1e33e219c83"
      },
      "outputs": [
        {
          "data": {
            "application/vnd.google.colaboratory.intrinsic+json": {
              "type": "string"
            },
            "text/plain": [
              "'send'"
            ]
          },
          "execution_count": 165,
          "metadata": {},
          "output_type": "execute_result"
        }
      ],
      "source": [
        "lst.stem('sended')"
      ]
    },
    {
      "cell_type": "code",
      "execution_count": null,
      "metadata": {
        "colab": {
          "base_uri": "https://localhost:8080/",
          "height": 36
        },
        "id": "FG-6JwOSPrer",
        "outputId": "72f1dc4c-e778-4741-f403-5496a5545ece"
      },
      "outputs": [
        {
          "data": {
            "application/vnd.google.colaboratory.intrinsic+json": {
              "type": "string"
            },
            "text/plain": [
              "'moth'"
            ]
          },
          "execution_count": 166,
          "metadata": {},
          "output_type": "execute_result"
        }
      ],
      "source": [
        "lst.stem('mother')"
      ]
    },
    {
      "cell_type": "code",
      "execution_count": null,
      "metadata": {
        "id": "xzMB3eQPP3wa"
      },
      "outputs": [],
      "source": [
        "#LEMMATIZATION\n",
        "from nltk.stem import WordNetLemmatizer\n"
      ]
    },
    {
      "cell_type": "code",
      "execution_count": null,
      "metadata": {
        "colab": {
          "base_uri": "https://localhost:8080/"
        },
        "id": "GQdPwqX0QKTa",
        "outputId": "24365901-a409-4d0b-979b-07024cecb5fa"
      },
      "outputs": [
        {
          "name": "stdout",
          "output_type": "stream",
          "text": [
            "[nltk_data] Downloading package wordnet to /root/nltk_data...\n",
            "[nltk_data]   Package wordnet is already up-to-date!\n"
          ]
        },
        {
          "data": {
            "text/plain": [
              "True"
            ]
          },
          "execution_count": 168,
          "metadata": {},
          "output_type": "execute_result"
        }
      ],
      "source": [
        "nltk.download('wordnet')"
      ]
    },
    {
      "cell_type": "code",
      "execution_count": null,
      "metadata": {
        "id": "FaIZMW9qQP6O"
      },
      "outputs": [],
      "source": [
        "from nltk.classify.rte_classify import lemmatize\n",
        "lemmatize =WordNetLemmatizer()"
      ]
    },
    {
      "cell_type": "code",
      "execution_count": null,
      "metadata": {
        "colab": {
          "base_uri": "https://localhost:8080/",
          "height": 36
        },
        "id": "ZFcp9lXrQV8o",
        "outputId": "4e915000-9beb-4665-d632-8852621d1a50"
      },
      "outputs": [
        {
          "data": {
            "application/vnd.google.colaboratory.intrinsic+json": {
              "type": "string"
            },
            "text/plain": [
              "'knife'"
            ]
          },
          "execution_count": 170,
          "metadata": {},
          "output_type": "execute_result"
        }
      ],
      "source": [
        "lemmatize.lemmatize('knives')"
      ]
    },
    {
      "cell_type": "code",
      "execution_count": null,
      "metadata": {
        "colab": {
          "base_uri": "https://localhost:8080/",
          "height": 36
        },
        "id": "dK-ZCz3WQyQ3",
        "outputId": "68c3a086-8333-485f-ed0e-203d02dcbd31"
      },
      "outputs": [
        {
          "data": {
            "application/vnd.google.colaboratory.intrinsic+json": {
              "type": "string"
            },
            "text/plain": [
              "'sentives'"
            ]
          },
          "execution_count": 171,
          "metadata": {},
          "output_type": "execute_result"
        }
      ],
      "source": [
        "lemmatize.lemmatize('sentives')"
      ]
    },
    {
      "cell_type": "code",
      "execution_count": null,
      "metadata": {
        "id": "po922C_4gwvb"
      },
      "outputs": [],
      "source": [
        "#STOP THE WORDS\n",
        "import nltk\n",
        "from nltk import word_tokenize\n",
        "from nltk.corpus import stopwords"
      ]
    },
    {
      "cell_type": "code",
      "execution_count": null,
      "metadata": {
        "colab": {
          "base_uri": "https://localhost:8080/"
        },
        "id": "wUtf4EJ0hBVM",
        "outputId": "ca30c44b-549b-49a2-bcaf-9b9b7051a5ef"
      },
      "outputs": [
        {
          "name": "stdout",
          "output_type": "stream",
          "text": [
            "[nltk_data] Downloading package stopwords to /root/nltk_data...\n",
            "[nltk_data]   Package stopwords is already up-to-date!\n"
          ]
        },
        {
          "data": {
            "text/plain": [
              "True"
            ]
          },
          "execution_count": 173,
          "metadata": {},
          "output_type": "execute_result"
        }
      ],
      "source": [
        "nltk.download('stopwords')"
      ]
    },
    {
      "cell_type": "code",
      "execution_count": null,
      "metadata": {
        "colab": {
          "base_uri": "https://localhost:8080/"
        },
        "id": "jBMU9FG3hH0l",
        "outputId": "17f104eb-86cd-4031-a2ff-fe9cf12a8339"
      },
      "outputs": [
        {
          "data": {
            "text/plain": [
              "{'a',\n",
              " 'about',\n",
              " 'above',\n",
              " 'after',\n",
              " 'again',\n",
              " 'against',\n",
              " 'ain',\n",
              " 'all',\n",
              " 'am',\n",
              " 'an',\n",
              " 'and',\n",
              " 'any',\n",
              " 'are',\n",
              " 'aren',\n",
              " \"aren't\",\n",
              " 'as',\n",
              " 'at',\n",
              " 'be',\n",
              " 'because',\n",
              " 'been',\n",
              " 'before',\n",
              " 'being',\n",
              " 'below',\n",
              " 'between',\n",
              " 'both',\n",
              " 'but',\n",
              " 'by',\n",
              " 'can',\n",
              " 'couldn',\n",
              " \"couldn't\",\n",
              " 'd',\n",
              " 'did',\n",
              " 'didn',\n",
              " \"didn't\",\n",
              " 'do',\n",
              " 'does',\n",
              " 'doesn',\n",
              " \"doesn't\",\n",
              " 'doing',\n",
              " 'don',\n",
              " \"don't\",\n",
              " 'down',\n",
              " 'during',\n",
              " 'each',\n",
              " 'few',\n",
              " 'for',\n",
              " 'from',\n",
              " 'further',\n",
              " 'had',\n",
              " 'hadn',\n",
              " \"hadn't\",\n",
              " 'has',\n",
              " 'hasn',\n",
              " \"hasn't\",\n",
              " 'have',\n",
              " 'haven',\n",
              " \"haven't\",\n",
              " 'having',\n",
              " 'he',\n",
              " 'her',\n",
              " 'here',\n",
              " 'hers',\n",
              " 'herself',\n",
              " 'him',\n",
              " 'himself',\n",
              " 'his',\n",
              " 'how',\n",
              " 'i',\n",
              " 'if',\n",
              " 'in',\n",
              " 'into',\n",
              " 'is',\n",
              " 'isn',\n",
              " \"isn't\",\n",
              " 'it',\n",
              " \"it's\",\n",
              " 'its',\n",
              " 'itself',\n",
              " 'just',\n",
              " 'll',\n",
              " 'm',\n",
              " 'ma',\n",
              " 'me',\n",
              " 'mightn',\n",
              " \"mightn't\",\n",
              " 'more',\n",
              " 'most',\n",
              " 'mustn',\n",
              " \"mustn't\",\n",
              " 'my',\n",
              " 'myself',\n",
              " 'needn',\n",
              " \"needn't\",\n",
              " 'no',\n",
              " 'nor',\n",
              " 'not',\n",
              " 'now',\n",
              " 'o',\n",
              " 'of',\n",
              " 'off',\n",
              " 'on',\n",
              " 'once',\n",
              " 'only',\n",
              " 'or',\n",
              " 'other',\n",
              " 'our',\n",
              " 'ours',\n",
              " 'ourselves',\n",
              " 'out',\n",
              " 'over',\n",
              " 'own',\n",
              " 're',\n",
              " 's',\n",
              " 'same',\n",
              " 'shan',\n",
              " \"shan't\",\n",
              " 'she',\n",
              " \"she's\",\n",
              " 'should',\n",
              " \"should've\",\n",
              " 'shouldn',\n",
              " \"shouldn't\",\n",
              " 'so',\n",
              " 'some',\n",
              " 'such',\n",
              " 't',\n",
              " 'than',\n",
              " 'that',\n",
              " \"that'll\",\n",
              " 'the',\n",
              " 'their',\n",
              " 'theirs',\n",
              " 'them',\n",
              " 'themselves',\n",
              " 'then',\n",
              " 'there',\n",
              " 'these',\n",
              " 'they',\n",
              " 'this',\n",
              " 'those',\n",
              " 'through',\n",
              " 'to',\n",
              " 'too',\n",
              " 'under',\n",
              " 'until',\n",
              " 'up',\n",
              " 've',\n",
              " 'very',\n",
              " 'was',\n",
              " 'wasn',\n",
              " \"wasn't\",\n",
              " 'we',\n",
              " 'were',\n",
              " 'weren',\n",
              " \"weren't\",\n",
              " 'what',\n",
              " 'when',\n",
              " 'where',\n",
              " 'which',\n",
              " 'while',\n",
              " 'who',\n",
              " 'whom',\n",
              " 'why',\n",
              " 'will',\n",
              " 'with',\n",
              " 'won',\n",
              " \"won't\",\n",
              " 'wouldn',\n",
              " \"wouldn't\",\n",
              " 'y',\n",
              " 'you',\n",
              " \"you'd\",\n",
              " \"you'll\",\n",
              " \"you're\",\n",
              " \"you've\",\n",
              " 'your',\n",
              " 'yours',\n",
              " 'yourself',\n",
              " 'yourselves'}"
            ]
          },
          "execution_count": 174,
          "metadata": {},
          "output_type": "execute_result"
        }
      ],
      "source": [
        "a = set(stopwords.words('english'))\n",
        "a"
      ]
    },
    {
      "cell_type": "code",
      "execution_count": null,
      "metadata": {
        "id": "67_O3ku0hO6b"
      },
      "outputs": [],
      "source": [
        "text1 = word_tokenize(paragraph.lower())"
      ]
    },
    {
      "cell_type": "code",
      "execution_count": null,
      "metadata": {
        "colab": {
          "base_uri": "https://localhost:8080/"
        },
        "id": "lkS0IqcchUwy",
        "outputId": "a33da0a2-ed1f-482a-cd6d-bf135f5e231d"
      },
      "outputs": [
        {
          "name": "stdout",
          "output_type": "stream",
          "text": [
            "['it', 'is', 'a', 'widely', 'used', 'and', 'deeply', 'understood', 'dataset', 'and', ',', 'for', 'the', 'most', 'part', ',', 'he', 'is', 'the', \"king'pablo'lets\", 'the', 'hiu', 'hgjhh', 'hs', ',', 'kohli', 'is', 'paly', 'for', 'rcb', 'in', 'banglore', 'and', 'partner', 'with', 'aakash', ',', 'is', '“', 'solved.', '”', 'top-performing', 'models', 'are', 'deep', 'learning', 'convolutional', 'neural', 'networks', 'that', 'achieve', 'a', 'classification', 'accuracy', 'of', 'above', '99', '%', ',', 'with', 'an', 'error', 'rate', 'between', '0.4', '%', 'and', '0.2', '%', 'on', 'the', 'hold', 'out', 'test', 'dataset', '.']\n"
          ]
        }
      ],
      "source": [
        "print(text1)"
      ]
    },
    {
      "cell_type": "code",
      "execution_count": null,
      "metadata": {
        "id": "OuOENL-8hl8L"
      },
      "outputs": [],
      "source": [
        "stopwords = [x for x in text1 if x not in a]"
      ]
    },
    {
      "cell_type": "code",
      "execution_count": null,
      "metadata": {
        "colab": {
          "base_uri": "https://localhost:8080/"
        },
        "id": "p35RO2OZiayg",
        "outputId": "b4c5d4b9-d778-44f9-b876-34a7c18f5246"
      },
      "outputs": [
        {
          "name": "stdout",
          "output_type": "stream",
          "text": [
            "['widely', 'used', 'deeply', 'understood', 'dataset', ',', 'part', ',', \"king'pablo'lets\", 'hiu', 'hgjhh', 'hs', ',', 'kohli', 'paly', 'rcb', 'banglore', 'partner', 'aakash', ',', '“', 'solved.', '”', 'top-performing', 'models', 'deep', 'learning', 'convolutional', 'neural', 'networks', 'achieve', 'classification', 'accuracy', '99', '%', ',', 'error', 'rate', '0.4', '%', '0.2', '%', 'hold', 'test', 'dataset', '.']\n"
          ]
        }
      ],
      "source": [
        "print(stopwords)"
      ]
    },
    {
      "cell_type": "code",
      "execution_count": null,
      "metadata": {
        "id": "A6Rlz5uNjHJA"
      },
      "outputs": [],
      "source": [
        "from wordcloud import WordCloud"
      ]
    },
    {
      "cell_type": "code",
      "execution_count": null,
      "metadata": {
        "id": "dEXfrFo6jMzs"
      },
      "outputs": [],
      "source": [
        "import matplotlib.pyplot as plt"
      ]
    },
    {
      "cell_type": "code",
      "execution_count": null,
      "metadata": {
        "colab": {
          "base_uri": "https://localhost:8080/",
          "height": 449
        },
        "id": "pDl5xE-4jR4X",
        "outputId": "ba743645-1d64-4c91-a58b-3d78959ad2f3"
      },
      "outputs": [
        {
          "data": {
            "image/png": "[encoded data removed]",
            "text/plain": [
              "<Figure size 864x576 with 1 Axes>"
            ]
          },
          "metadata": {},
          "output_type": "display_data"
        }
      ],
      "source": [
        "all_words = ''.join([t for t in stopwords])\n",
        "\n",
        "wordcloud = WordCloud(width=800,\n",
        "                      height=500,\n",
        "                      random_state=21,\n",
        "                      max_font_size =110).generate(all_words)\n",
        "plt.figure(figsize=(12,8))\n",
        "plt.imshow(wordcloud,interpolation=\"bilinear\")\n",
        "plt.axis('off')\n",
        "plt.show()"
      ]
    },
    {
      "cell_type": "code",
      "execution_count": null,
      "metadata": {
        "colab": {
          "base_uri": "https://localhost:8080/"
        },
        "id": "GFHi8q3NlA9H",
        "outputId": "16cd80bb-5dcd-42fc-a0ae-df673a3965d5"
      },
      "outputs": [
        {
          "name": "stdout",
          "output_type": "stream",
          "text": [
            "[nltk_data] Downloading package averaged_perceptron_tagger to\n",
            "[nltk_data]     /root/nltk_data...\n",
            "[nltk_data]   Package averaged_perceptron_tagger is already up-to-\n",
            "[nltk_data]       date!\n"
          ]
        },
        {
          "data": {
            "text/plain": [
              "True"
            ]
          },
          "execution_count": 182,
          "metadata": {},
          "output_type": "execute_result"
        }
      ],
      "source": [
        "#pos TAGGING\n",
        "nltk.download('averaged_perceptron_tagger')"
      ]
    },
    {
      "cell_type": "code",
      "execution_count": null,
      "metadata": {
        "colab": {
          "base_uri": "https://localhost:8080/"
        },
        "id": "Av02EdrXl_JX",
        "outputId": "a00b2723-c88a-49f3-e4ae-53875b07a4e0"
      },
      "outputs": [
        {
          "name": "stdout",
          "output_type": "stream",
          "text": [
            "[('it', 'PRP')]\n",
            "[('is', 'VBZ')]\n",
            "[('a', 'DT')]\n",
            "[('widely', 'RB')]\n",
            "[('used', 'VBN')]\n",
            "[('and', 'CC')]\n",
            "[('deeply', 'NN')]\n",
            "[('understood', 'NN')]\n",
            "[('dataset', 'NN')]\n",
            "[('and', 'CC')]\n",
            "[(',', ',')]\n",
            "[('for', 'IN')]\n",
            "[('the', 'DT')]\n",
            "[('most', 'JJS')]\n",
            "[('part', 'NN')]\n",
            "[(',', ',')]\n",
            "[('he', 'PRP')]\n",
            "[('is', 'VBZ')]\n",
            "[('the', 'DT')]\n",
            "[(\"king'pablo'lets\", 'NNS')]\n",
            "[('the', 'DT')]\n",
            "[('hiu', 'NN')]\n",
            "[('hgjhh', 'NN')]\n",
            "[('hs', 'NN')]\n",
            "[(',', ',')]\n",
            "[('kohli', 'NN')]\n",
            "[('is', 'VBZ')]\n",
            "[('paly', 'NN')]\n",
            "[('for', 'IN')]\n",
            "[('rcb', 'NN')]\n",
            "[('in', 'IN')]\n",
            "[('banglore', 'NN')]\n",
            "[('and', 'CC')]\n",
            "[('partner', 'NN')]\n",
            "[('with', 'IN')]\n",
            "[('aakash', 'NN')]\n",
            "[(',', ',')]\n",
            "[('is', 'VBZ')]\n",
            "[('“', 'NN')]\n",
            "[('solved.', 'NN')]\n",
            "[('”', 'NN')]\n",
            "[('top-performing', 'NN')]\n",
            "[('models', 'NNS')]\n",
            "[('are', 'VBP')]\n",
            "[('deep', 'NN')]\n",
            "[('learning', 'VBG')]\n",
            "[('convolutional', 'NN')]\n",
            "[('neural', 'JJ')]\n",
            "[('networks', 'NNS')]\n",
            "[('that', 'IN')]\n",
            "[('achieve', 'NN')]\n",
            "[('a', 'DT')]\n",
            "[('classification', 'NN')]\n",
            "[('accuracy', 'NN')]\n",
            "[('of', 'IN')]\n",
            "[('above', 'IN')]\n",
            "[('99', 'CD')]\n",
            "[('%', 'NN')]\n",
            "[(',', ',')]\n",
            "[('with', 'IN')]\n",
            "[('an', 'DT')]\n",
            "[('error', 'NN')]\n",
            "[('rate', 'NN')]\n",
            "[('between', 'IN')]\n",
            "[('0.4', 'CD')]\n",
            "[('%', 'NN')]\n",
            "[('and', 'CC')]\n",
            "[('0.2', 'CD')]\n",
            "[('%', 'NN')]\n",
            "[('on', 'IN')]\n",
            "[('the', 'DT')]\n",
            "[('hold', 'NN')]\n",
            "[('out', 'IN')]\n",
            "[('test', 'NN')]\n",
            "[('dataset', 'NN')]\n",
            "[('.', '.')]\n"
          ]
        }
      ],
      "source": [
        "#POS TAGS\n",
        "for token in text1:\n",
        "  print(nltk.pos_tag([token]))"
      ]
    },
    {
      "cell_type": "code",
      "execution_count": null,
      "metadata": {
        "id": "gYdlGtoBmUDf"
      },
      "outputs": [],
      "source": [
        "from sklearn.feature_extraction.text import TfidfVectorizer"
      ]
    },
    {
      "cell_type": "code",
      "execution_count": null,
      "metadata": {
        "colab": {
          "base_uri": "https://localhost:8080/"
        },
        "id": "3nkfLx1Rpf25",
        "outputId": "5e8cc387-99ac-4b5e-cc88-b668b3b19d7e"
      },
      "outputs": [
        {
          "data": {
            "text/plain": [
              "TfidfVectorizer()"
            ]
          },
          "execution_count": 189,
          "metadata": {},
          "output_type": "execute_result"
        }
      ],
      "source": [
        "vectorizer = TfidfVectorizer()\n",
        "vectorizer"
      ]
    },
    {
      "cell_type": "code",
      "execution_count": null,
      "metadata": {
        "colab": {
          "base_uri": "https://localhost:8080/"
        },
        "id": "CnjTW1C5plLk",
        "outputId": "b928a60d-7b4b-4282-fcd0-b3757c6ac725"
      },
      "outputs": [
        {
          "data": {
            "text/plain": [
              "<46x35 sparse matrix of type '<class 'numpy.float64'>'\n",
              "\twith 36 stored elements in Compressed Sparse Row format>"
            ]
          },
          "execution_count": 190,
          "metadata": {},
          "output_type": "execute_result"
        }
      ],
      "source": [
        "x = vectorizer.fit_transform(stopwords)\n",
        "x"
      ]
    },
    {
      "cell_type": "code",
      "execution_count": null,
      "metadata": {
        "colab": {
          "base_uri": "https://localhost:8080/"
        },
        "id": "eolCdI9PrXAS",
        "outputId": "6e267c4c-2367-40d6-eedc-1e7547ff8ba2"
      },
      "outputs": [
        {
          "name": "stdout",
          "output_type": "stream",
          "text": [
            "  (0, 34)\t1.0\n",
            "  (1, 33)\t1.0\n",
            "  (2, 9)\t1.0\n",
            "  (3, 32)\t1.0\n",
            "  (4, 7)\t1.0\n",
            "  (6, 24)\t1.0\n",
            "  (8, 18)\t0.5773502691896257\n",
            "  (8, 22)\t0.5773502691896257\n",
            "  (8, 15)\t0.5773502691896257\n",
            "  (9, 12)\t1.0\n",
            "  (10, 11)\t1.0\n",
            "  (11, 14)\t1.0\n",
            "  (13, 16)\t1.0\n",
            "  (14, 23)\t1.0\n",
            "  (15, 28)\t1.0\n",
            "  (16, 4)\t1.0\n",
            "  (17, 25)\t1.0\n",
            "  (18, 1)\t1.0\n",
            "  (21, 29)\t1.0\n",
            "  (23, 26)\t0.7071067811865476\n",
            "  (23, 31)\t0.7071067811865476\n",
            "  (24, 19)\t1.0\n",
            "  (25, 8)\t1.0\n",
            "  (26, 17)\t1.0\n",
            "  (27, 6)\t1.0\n",
            "  (28, 21)\t1.0\n",
            "  (29, 20)\t1.0\n",
            "  (30, 3)\t1.0\n",
            "  (31, 5)\t1.0\n",
            "  (32, 2)\t1.0\n",
            "  (33, 0)\t1.0\n",
            "  (36, 10)\t1.0\n",
            "  (37, 27)\t1.0\n",
            "  (42, 13)\t1.0\n",
            "  (43, 30)\t1.0\n",
            "  (44, 7)\t1.0\n"
          ]
        }
      ],
      "source": [
        "print(vectorizer.fit_transform(stopwords))"
      ]
    },
    {
      "cell_type": "code",
      "execution_count": null,
      "metadata": {
        "colab": {
          "base_uri": "https://localhost:8080/"
        },
        "id": "8byzDqlmr9h2",
        "outputId": "280dd0e1-53f9-4e16-8b86-658d0a65cdb4"
      },
      "outputs": [
        {
          "name": "stdout",
          "output_type": "stream",
          "text": [
            "['99', 'aakash', 'accuracy', 'achieve', 'banglore', 'classification', 'convolutional', 'dataset', 'deep', 'deeply', 'error', 'hgjhh', 'hiu', 'hold', 'hs', 'king', 'kohli', 'learning', 'lets', 'models', 'networks', 'neural', 'pablo', 'paly', 'part', 'partner', 'performing', 'rate', 'rcb', 'solved', 'test', 'top', 'understood', 'used', 'widely']\n"
          ]
        },
        {
          "name": "stderr",
          "output_type": "stream",
          "text": [
            "/usr/local/lib/python3.7/dist-packages/sklearn/utils/deprecation.py:87: FutureWarning: Function get_feature_names is deprecated; get_feature_names is deprecated in 1.0 and will be removed in 1.2. Please use get_feature_names_out instead.\n",
            "  warnings.warn(msg, category=FutureWarning)\n"
          ]
        }
      ],
      "source": [
        "print(vectorizer.get_feature_names())"
      ]
    },
    {
      "cell_type": "code",
      "execution_count": null,
      "metadata": {
        "id": "gBkCIsXPsGU8"
      },
      "outputs": [],
      "source": [
        "from collections import Counter"
      ]
    },
    {
      "cell_type": "code",
      "execution_count": null,
      "metadata": {
        "id": "5oxt1osDtS7w"
      },
      "outputs": [],
      "source": [
        "counter = Counter(stopwords)\n",
        "counter"
      ]
    },
    {
      "cell_type": "code",
      "execution_count": null,
      "metadata": {
        "id": "PMpKR06TtYOh"
      },
      "outputs": [],
      "source": [
        "most_occur = counter.most_common(10)"
      ]
    },
    {
      "cell_type": "code",
      "execution_count": null,
      "metadata": {
        "colab": {
          "base_uri": "https://localhost:8080/"
        },
        "id": "e2BHigCYtiHm",
        "outputId": "9f301b51-3e61-4066-a468-67e9048ec363"
      },
      "outputs": [
        {
          "data": {
            "text/plain": [
              "[(',', 5),\n",
              " ('%', 3),\n",
              " ('dataset', 2),\n",
              " ('widely', 1),\n",
              " ('used', 1),\n",
              " ('deeply', 1),\n",
              " ('understood', 1),\n",
              " ('part', 1),\n",
              " (\"king'pablo'lets\", 1),\n",
              " ('hiu', 1)]"
            ]
          },
          "execution_count": 198,
          "metadata": {},
          "output_type": "execute_result"
        }
      ],
      "source": [
        "most_occur"
      ]
    },
    {
      "cell_type": "code",
      "execution_count": null,
      "metadata": {
        "id": "u3ZbkoFztoEr"
      },
      "outputs": [],
      "source": [
        "#NAMED ENTITY (CHUNKING)\n",
        "from nltk import ne_chunk"
      ]
    },
    {
      "cell_type": "code",
      "execution_count": null,
      "metadata": {
        "colab": {
          "base_uri": "https://localhost:8080/"
        },
        "id": "Wy28pH-zuFEM",
        "outputId": "a4dd847c-8874-4d43-d34c-f37892a1448d"
      },
      "outputs": [
        {
          "data": {
            "text/plain": [
              "['It',\n",
              " 'is',\n",
              " 'a',\n",
              " 'widely',\n",
              " 'used',\n",
              " 'and',\n",
              " 'deeply',\n",
              " 'understood',\n",
              " 'dataset',\n",
              " 'and',\n",
              " ',',\n",
              " 'for',\n",
              " 'the',\n",
              " 'most',\n",
              " 'part',\n",
              " ',',\n",
              " 'he',\n",
              " 'is',\n",
              " 'the',\n",
              " \"king'pablo'lets\",\n",
              " 'the',\n",
              " 'hiu',\n",
              " 'hgjhh',\n",
              " 'hs',\n",
              " ',',\n",
              " 'kohli',\n",
              " 'is',\n",
              " 'paly',\n",
              " 'for',\n",
              " 'RCB',\n",
              " 'in',\n",
              " 'Banglore',\n",
              " 'and',\n",
              " 'partner',\n",
              " 'with',\n",
              " 'aakash',\n",
              " ',',\n",
              " 'is',\n",
              " '“',\n",
              " 'solved.',\n",
              " '”',\n",
              " 'Top-performing',\n",
              " 'models',\n",
              " 'are',\n",
              " 'deep',\n",
              " 'learning',\n",
              " 'convolutional',\n",
              " 'neural',\n",
              " 'networks',\n",
              " 'that',\n",
              " 'achieve',\n",
              " 'a',\n",
              " 'classification',\n",
              " 'accuracy',\n",
              " 'of',\n",
              " 'above',\n",
              " '99',\n",
              " '%',\n",
              " ',',\n",
              " 'with',\n",
              " 'an',\n",
              " 'error',\n",
              " 'rate',\n",
              " 'between',\n",
              " '0.4',\n",
              " '%',\n",
              " 'and',\n",
              " '0.2',\n",
              " '%',\n",
              " 'on',\n",
              " 'the',\n",
              " 'hold',\n",
              " 'out',\n",
              " 'test',\n",
              " 'dataset',\n",
              " '.']"
            ]
          },
          "execution_count": 205,
          "metadata": {},
          "output_type": "execute_result"
        }
      ],
      "source": [
        "token = word_tokenize(paragraph)\n",
        "token"
      ]
    },
    {
      "cell_type": "code",
      "execution_count": null,
      "metadata": {
        "colab": {
          "base_uri": "https://localhost:8080/"
        },
        "id": "lEKIBVRRuL_8",
        "outputId": "284d1c6d-d28e-45ec-a36c-aed2ca472c78"
      },
      "outputs": [
        {
          "data": {
            "text/plain": [
              "[('It', 'PRP'),\n",
              " ('is', 'VBZ'),\n",
              " ('a', 'DT'),\n",
              " ('widely', 'RB'),\n",
              " ('used', 'VBN'),\n",
              " ('and', 'CC'),\n",
              " ('deeply', 'RB'),\n",
              " ('understood', 'JJ'),\n",
              " ('dataset', 'NN'),\n",
              " ('and', 'CC'),\n",
              " (',', ','),\n",
              " ('for', 'IN'),\n",
              " ('the', 'DT'),\n",
              " ('most', 'JJS'),\n",
              " ('part', 'NN'),\n",
              " (',', ','),\n",
              " ('he', 'PRP'),\n",
              " ('is', 'VBZ'),\n",
              " ('the', 'DT'),\n",
              " (\"king'pablo'lets\", 'NNS'),\n",
              " ('the', 'DT'),\n",
              " ('hiu', 'NN'),\n",
              " ('hgjhh', 'NN'),\n",
              " ('hs', 'NN'),\n",
              " (',', ','),\n",
              " ('kohli', 'NN'),\n",
              " ('is', 'VBZ'),\n",
              " ('paly', 'VBN'),\n",
              " ('for', 'IN'),\n",
              " ('RCB', 'NNP'),\n",
              " ('in', 'IN'),\n",
              " ('Banglore', 'NNP'),\n",
              " ('and', 'CC'),\n",
              " ('partner', 'NN'),\n",
              " ('with', 'IN'),\n",
              " ('aakash', 'NN'),\n",
              " (',', ','),\n",
              " ('is', 'VBZ'),\n",
              " ('“', 'JJ'),\n",
              " ('solved.', 'JJ'),\n",
              " ('”', 'JJ'),\n",
              " ('Top-performing', 'JJ'),\n",
              " ('models', 'NNS'),\n",
              " ('are', 'VBP'),\n",
              " ('deep', 'JJ'),\n",
              " ('learning', 'JJ'),\n",
              " ('convolutional', 'JJ'),\n",
              " ('neural', 'JJ'),\n",
              " ('networks', 'NNS'),\n",
              " ('that', 'WDT'),\n",
              " ('achieve', 'VBP'),\n",
              " ('a', 'DT'),\n",
              " ('classification', 'NN'),\n",
              " ('accuracy', 'NN'),\n",
              " ('of', 'IN'),\n",
              " ('above', 'IN'),\n",
              " ('99', 'CD'),\n",
              " ('%', 'NN'),\n",
              " (',', ','),\n",
              " ('with', 'IN'),\n",
              " ('an', 'DT'),\n",
              " ('error', 'NN'),\n",
              " ('rate', 'NN'),\n",
              " ('between', 'IN'),\n",
              " ('0.4', 'CD'),\n",
              " ('%', 'NN'),\n",
              " ('and', 'CC'),\n",
              " ('0.2', 'CD'),\n",
              " ('%', 'NN'),\n",
              " ('on', 'IN'),\n",
              " ('the', 'DT'),\n",
              " ('hold', 'NN'),\n",
              " ('out', 'RP'),\n",
              " ('test', 'NN'),\n",
              " ('dataset', 'NN'),\n",
              " ('.', '.')]"
            ]
          },
          "execution_count": 204,
          "metadata": {},
          "output_type": "execute_result"
        }
      ],
      "source": [
        "tags = nltk.pos_tag(token)\n",
        "tags"
      ]
    },
    {
      "cell_type": "code",
      "execution_count": null,
      "metadata": {
        "colab": {
          "base_uri": "https://localhost:8080/"
        },
        "id": "Vtqbne0suSUR",
        "outputId": "79055fe9-b5cb-4bb5-90f5-8dd13a3db39d"
      },
      "outputs": [
        {
          "name": "stdout",
          "output_type": "stream",
          "text": [
            "[nltk_data] Error loading maxement ne chunker: Package 'maxement ne\n",
            "[nltk_data]     chunker' not found in index\n",
            "[nltk_data] Downloading package words to /root/nltk_data...\n",
            "[nltk_data]   Unzipping corpora/words.zip.\n"
          ]
        },
        {
          "data": {
            "text/plain": [
              "True"
            ]
          },
          "execution_count": 206,
          "metadata": {},
          "output_type": "execute_result"
        }
      ],
      "source": [
        "nltk.download('maxement ne chunker')\n",
        "nltk.download('words')"
      ]
    },
    {
      "cell_type": "code",
      "execution_count": null,
      "metadata": {
        "colab": {
          "background_save": true,
          "base_uri": "https://localhost:8080/",
          "height": 634
        },
        "id": "6Sju_bUnuvFM",
        "outputId": "98aaa33a-b340-4621-de46-eb5e7e6a769a"
      },
      "outputs": [
        {
          "ename": "LookupError",
          "evalue": "ignored",
          "output_type": "error",
          "traceback": [
            "\u001b[0;31m---------------------------------------------------------------------------\u001b[0m",
            "\u001b[0;31mLookupError\u001b[0m                               Traceback (most recent call last)",
            "\u001b[0;32m<ipython-input-208-45c6aeeffd9f>\u001b[0m in \u001b[0;36m<module>\u001b[0;34m()\u001b[0m\n\u001b[0;32m----> 1\u001b[0;31m \u001b[0mchunk\u001b[0m \u001b[0;34m=\u001b[0m \u001b[0mne_chunk\u001b[0m\u001b[0;34m(\u001b[0m\u001b[0mtags\u001b[0m\u001b[0;34m)\u001b[0m\u001b[0;34m\u001b[0m\u001b[0;34m\u001b[0m\u001b[0m\n\u001b[0m\u001b[1;32m      2\u001b[0m \u001b[0mchunk\u001b[0m\u001b[0;34m\u001b[0m\u001b[0;34m\u001b[0m\u001b[0m\n",
            "\u001b[0;32m/usr/local/lib/python3.7/dist-packages/nltk/chunk/__init__.py\u001b[0m in \u001b[0;36mne_chunk\u001b[0;34m(tagged_tokens, binary)\u001b[0m\n\u001b[1;32m    174\u001b[0m     \u001b[0;32melse\u001b[0m\u001b[0;34m:\u001b[0m\u001b[0;34m\u001b[0m\u001b[0;34m\u001b[0m\u001b[0m\n\u001b[1;32m    175\u001b[0m         \u001b[0mchunker_pickle\u001b[0m \u001b[0;34m=\u001b[0m \u001b[0m_MULTICLASS_NE_CHUNKER\u001b[0m\u001b[0;34m\u001b[0m\u001b[0;34m\u001b[0m\u001b[0m\n\u001b[0;32m--> 176\u001b[0;31m     \u001b[0mchunker\u001b[0m \u001b[0;34m=\u001b[0m \u001b[0mload\u001b[0m\u001b[0;34m(\u001b[0m\u001b[0mchunker_pickle\u001b[0m\u001b[0;34m)\u001b[0m\u001b[0;34m\u001b[0m\u001b[0;34m\u001b[0m\u001b[0m\n\u001b[0m\u001b[1;32m    177\u001b[0m     \u001b[0;32mreturn\u001b[0m \u001b[0mchunker\u001b[0m\u001b[0;34m.\u001b[0m\u001b[0mparse\u001b[0m\u001b[0;34m(\u001b[0m\u001b[0mtagged_tokens\u001b[0m\u001b[0;34m)\u001b[0m\u001b[0;34m\u001b[0m\u001b[0;34m\u001b[0m\u001b[0m\n\u001b[1;32m    178\u001b[0m \u001b[0;34m\u001b[0m\u001b[0m\n",
            "\u001b[0;32m/usr/local/lib/python3.7/dist-packages/nltk/data.py\u001b[0m in \u001b[0;36mload\u001b[0;34m(resource_url, format, cache, verbose, logic_parser, fstruct_reader, encoding)\u001b[0m\n\u001b[1;32m    832\u001b[0m \u001b[0;34m\u001b[0m\u001b[0m\n\u001b[1;32m    833\u001b[0m     \u001b[0;31m# Load the resource.\u001b[0m\u001b[0;34m\u001b[0m\u001b[0;34m\u001b[0m\u001b[0;34m\u001b[0m\u001b[0m\n\u001b[0;32m--> 834\u001b[0;31m     \u001b[0mopened_resource\u001b[0m \u001b[0;34m=\u001b[0m \u001b[0m_open\u001b[0m\u001b[0;34m(\u001b[0m\u001b[0mresource_url\u001b[0m\u001b[0;34m)\u001b[0m\u001b[0;34m\u001b[0m\u001b[0;34m\u001b[0m\u001b[0m\n\u001b[0m\u001b[1;32m    835\u001b[0m \u001b[0;34m\u001b[0m\u001b[0m\n\u001b[1;32m    836\u001b[0m     \u001b[0;32mif\u001b[0m \u001b[0mformat\u001b[0m \u001b[0;34m==\u001b[0m \u001b[0;34m'raw'\u001b[0m\u001b[0;34m:\u001b[0m\u001b[0;34m\u001b[0m\u001b[0;34m\u001b[0m\u001b[0m\n",
            "\u001b[0;32m/usr/local/lib/python3.7/dist-packages/nltk/data.py\u001b[0m in \u001b[0;36m_open\u001b[0;34m(resource_url)\u001b[0m\n\u001b[1;32m    950\u001b[0m \u001b[0;34m\u001b[0m\u001b[0m\n\u001b[1;32m    951\u001b[0m     \u001b[0;32mif\u001b[0m \u001b[0mprotocol\u001b[0m \u001b[0;32mis\u001b[0m \u001b[0;32mNone\u001b[0m \u001b[0;32mor\u001b[0m \u001b[0mprotocol\u001b[0m\u001b[0;34m.\u001b[0m\u001b[0mlower\u001b[0m\u001b[0;34m(\u001b[0m\u001b[0;34m)\u001b[0m \u001b[0;34m==\u001b[0m \u001b[0;34m'nltk'\u001b[0m\u001b[0;34m:\u001b[0m\u001b[0;34m\u001b[0m\u001b[0;34m\u001b[0m\u001b[0m\n\u001b[0;32m--> 952\u001b[0;31m         \u001b[0;32mreturn\u001b[0m \u001b[0mfind\u001b[0m\u001b[0;34m(\u001b[0m\u001b[0mpath_\u001b[0m\u001b[0;34m,\u001b[0m \u001b[0mpath\u001b[0m \u001b[0;34m+\u001b[0m \u001b[0;34m[\u001b[0m\u001b[0;34m''\u001b[0m\u001b[0;34m]\u001b[0m\u001b[0;34m)\u001b[0m\u001b[0;34m.\u001b[0m\u001b[0mopen\u001b[0m\u001b[0;34m(\u001b[0m\u001b[0;34m)\u001b[0m\u001b[0;34m\u001b[0m\u001b[0;34m\u001b[0m\u001b[0m\n\u001b[0m\u001b[1;32m    953\u001b[0m     \u001b[0;32melif\u001b[0m \u001b[0mprotocol\u001b[0m\u001b[0;34m.\u001b[0m\u001b[0mlower\u001b[0m\u001b[0;34m(\u001b[0m\u001b[0;34m)\u001b[0m \u001b[0;34m==\u001b[0m \u001b[0;34m'file'\u001b[0m\u001b[0;34m:\u001b[0m\u001b[0;34m\u001b[0m\u001b[0;34m\u001b[0m\u001b[0m\n\u001b[1;32m    954\u001b[0m         \u001b[0;31m# urllib might not use mode='rb', so handle this one ourselves:\u001b[0m\u001b[0;34m\u001b[0m\u001b[0;34m\u001b[0m\u001b[0;34m\u001b[0m\u001b[0m\n",
            "\u001b[0;32m/usr/local/lib/python3.7/dist-packages/nltk/data.py\u001b[0m in \u001b[0;36mfind\u001b[0;34m(resource_name, paths)\u001b[0m\n\u001b[1;32m    671\u001b[0m     \u001b[0msep\u001b[0m \u001b[0;34m=\u001b[0m \u001b[0;34m'*'\u001b[0m \u001b[0;34m*\u001b[0m \u001b[0;36m70\u001b[0m\u001b[0;34m\u001b[0m\u001b[0;34m\u001b[0m\u001b[0m\n\u001b[1;32m    672\u001b[0m     \u001b[0mresource_not_found\u001b[0m \u001b[0;34m=\u001b[0m \u001b[0;34m'\\n%s\\n%s\\n%s\\n'\u001b[0m \u001b[0;34m%\u001b[0m \u001b[0;34m(\u001b[0m\u001b[0msep\u001b[0m\u001b[0;34m,\u001b[0m \u001b[0mmsg\u001b[0m\u001b[0;34m,\u001b[0m \u001b[0msep\u001b[0m\u001b[0;34m)\u001b[0m\u001b[0;34m\u001b[0m\u001b[0;34m\u001b[0m\u001b[0m\n\u001b[0;32m--> 673\u001b[0;31m     \u001b[0;32mraise\u001b[0m \u001b[0mLookupError\u001b[0m\u001b[0;34m(\u001b[0m\u001b[0mresource_not_found\u001b[0m\u001b[0;34m)\u001b[0m\u001b[0;34m\u001b[0m\u001b[0;34m\u001b[0m\u001b[0m\n\u001b[0m\u001b[1;32m    674\u001b[0m \u001b[0;34m\u001b[0m\u001b[0m\n\u001b[1;32m    675\u001b[0m \u001b[0;34m\u001b[0m\u001b[0m\n",
            "\u001b[0;31mLookupError\u001b[0m: \n**********************************************************************\n  Resource \u001b[93mmaxent_ne_chunker\u001b[0m not found.\n  Please use the NLTK Downloader to obtain the resource:\n\n  \u001b[31m>>> import nltk\n  >>> nltk.download('maxent_ne_chunker')\n  \u001b[0m\n  Searched in:\n    - '/root/nltk_data'\n    - '/usr/share/nltk_data'\n    - '/usr/local/share/nltk_data'\n    - '/usr/lib/nltk_data'\n    - '/usr/local/lib/nltk_data'\n    - '/usr/nltk_data'\n    - '/usr/lib/nltk_data'\n    - ''\n**********************************************************************\n"
          ]
        }
      ],
      "source": [
        "chunk = ne_chunk(tags)\n",
        "chunk"
      ]
    }
  ],
  "metadata": {
    "colab": {
      "name": "Text Analysis Work.ipynb",
      "provenance": [],
      "authorship_tag": "ABX9TyNkT3gTgF19+Hfsb/Lkm0fC",
      "include_colab_link": true
    },
    "kernelspec": {
      "display_name": "Python 3",
      "name": "python3"
    },
    "language_info": {
      "name": "python"
    }
  },
  "nbformat": 4,
  "nbformat_minor": 0
}